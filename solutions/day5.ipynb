{
 "cells": [
  {
   "cell_type": "code",
   "execution_count": 1,
   "id": "b4d1b75f",
   "metadata": {},
   "outputs": [],
   "source": [
    "from dataclasses import dataclass"
   ]
  },
  {
   "cell_type": "code",
   "execution_count": 60,
   "id": "2dd6703e",
   "metadata": {},
   "outputs": [],
   "source": [
    "# filename = \"AoC day 5 example data.txt\"\n",
    "filename = \"AoC day 5 data.txt\"\n",
    "with open(filename, 'r') as f:\n",
    "    data = f.read()\n",
    "stacks_data, moves_data = data.split('\\n\\n')"
   ]
  },
  {
   "cell_type": "code",
   "execution_count": 61,
   "id": "4775b17c",
   "metadata": {},
   "outputs": [],
   "source": [
    "class StacksData():\n",
    "    \n",
    "# represent the stacks as a dictionary\n",
    "# each stack contains a list of crates, bottom-up, e.g.\n",
    "# stacks = {1: ['Z', 'N'],\n",
    "#          {2: ['M', 'C', 'D'],\n",
    "#          {3: ['P']}}\n",
    "    \n",
    "    def __init__(self, data):\n",
    "        self.data = data\n",
    "        \n",
    "    @classmethod\n",
    "    def from_data(cls, data):\n",
    "        stacks_data_by_line = stacks_data.split('\\n')\n",
    "        n_stacks = (len(stacks_data_by_line[0])+1)//4\n",
    "        stacks = {}\n",
    "        for i in range(n_stacks):\n",
    "            stacks[i+1] = []\n",
    "        # loop over lines containing crate info, bottom up, and extract the crates for each stack\n",
    "        for line in stacks_data_by_line[-2::-1]:\n",
    "            for i in range(n_stacks):\n",
    "                crate = line[i*4+1]\n",
    "                if crate != ' ':\n",
    "                    stacks[i+1].append(line[i*4+1])\n",
    "        return cls(stacks)\n",
    "    \n",
    "    def move_crates(self, move):\n",
    "        \"\"\"Moves one or more crates between stacks,\n",
    "        as encoded by a Move object.\n",
    "\n",
    "        \"\"\"\n",
    "        for i in range(move.n_moves):\n",
    "            if not self.data[move.from_stack]:\n",
    "                raise ValueError(\"Cannot move a crate from an empty stack\")\n",
    "            self.data[move.to_stack].append(self.data[move.from_stack].pop())\n",
    "            \n",
    "    def topmost_crates(self) -> list:\n",
    "        return [stacks.data[i+1][-1] for i in range(len(stacks.data))]\n",
    "        \n",
    "        "
   ]
  },
  {
   "cell_type": "code",
   "execution_count": 62,
   "id": "88fdd592",
   "metadata": {},
   "outputs": [],
   "source": [
    "@dataclass\n",
    "class Move():\n",
    "    n_moves: int\n",
    "    from_stack: int\n",
    "    to_stack: int\n",
    "        \n",
    "    @classmethod\n",
    "    def from_data(cls, line):\n",
    "        return cls(*(int(s) for s in line.split(' ')[1::2]))"
   ]
  },
  {
   "cell_type": "code",
   "execution_count": 63,
   "id": "06da3a90",
   "metadata": {},
   "outputs": [],
   "source": [
    "# input data parsing\n",
    "moves = [Move.from_data(line) for line in moves_data.split('\\n')]"
   ]
  },
  {
   "cell_type": "code",
   "execution_count": 64,
   "id": "55660fe8",
   "metadata": {},
   "outputs": [
    {
     "data": {
      "text/plain": [
       "{1: ['F', 'T', 'C', 'L', 'R', 'P', 'G', 'Q'],\n",
       " 2: ['N', 'Q', 'H', 'W', 'R', 'F', 'S', 'J'],\n",
       " 3: ['F', 'B', 'H', 'W', 'P', 'M', 'Q'],\n",
       " 4: ['V', 'S', 'T', 'D', 'F'],\n",
       " 5: ['Q', 'L', 'D', 'W', 'V', 'F', 'Z'],\n",
       " 6: ['Z', 'C', 'L', 'S'],\n",
       " 7: ['Z', 'B', 'M', 'V', 'D', 'F'],\n",
       " 8: ['T', 'J', 'B'],\n",
       " 9: ['Q', 'N', 'B', 'G', 'L', 'S', 'P', 'H']}"
      ]
     },
     "execution_count": 64,
     "metadata": {},
     "output_type": "execute_result"
    }
   ],
   "source": [
    "stacks = StacksData.from_data(stacks_data)\n",
    "stacks.data"
   ]
  },
  {
   "cell_type": "code",
   "execution_count": 65,
   "id": "d5c99565",
   "metadata": {},
   "outputs": [],
   "source": [
    "for m in moves:\n",
    "    stacks.move_crates(m)"
   ]
  },
  {
   "cell_type": "code",
   "execution_count": 66,
   "id": "aa4e7e98",
   "metadata": {},
   "outputs": [
    {
     "data": {
      "text/plain": [
       "{1: ['L', 'V'],\n",
       " 2: ['G', 'D', 'F', 'B', 'Q', 'M', 'Q', 'C', 'G'],\n",
       " 3: ['B'],\n",
       " 4: ['B'],\n",
       " 5: ['L', 'Z', 'W', 'W', 'V', 'D', 'S', 'P', 'S', 'F', 'F', 'J'],\n",
       " 6: ['W', 'C'],\n",
       " 7: ['H', 'H', 'B', 'Q', 'J', 'N', 'R'],\n",
       " 8: ['D', 'V', 'H', 'L', 'F', 'Z', 'P', 'T', 'T', 'Z', 'F', 'P', 'M'],\n",
       " 9: ['S', 'F', 'Q', 'L', 'T', 'Q', 'S', 'R', 'N']}"
      ]
     },
     "execution_count": 66,
     "metadata": {},
     "output_type": "execute_result"
    }
   ],
   "source": [
    "stacks.data"
   ]
  },
  {
   "cell_type": "code",
   "execution_count": 67,
   "id": "d2393842",
   "metadata": {},
   "outputs": [
    {
     "data": {
      "text/plain": [
       "'VGBBJCRMN'"
      ]
     },
     "execution_count": 67,
     "metadata": {},
     "output_type": "execute_result"
    }
   ],
   "source": [
    "''.join(stacks.topmost_crates())"
   ]
  },
  {
   "cell_type": "code",
   "execution_count": 68,
   "id": "fa127112",
   "metadata": {},
   "outputs": [],
   "source": [
    "# part 2"
   ]
  },
  {
   "cell_type": "code",
   "execution_count": 74,
   "id": "4e0c2351",
   "metadata": {},
   "outputs": [],
   "source": [
    "class StacksData9001(StacksData):\n",
    "    \n",
    "    def move_crates(self, move):\n",
    "        \"\"\"Moves one or more crates between stacks,\n",
    "        as encoded by a Move object.\n",
    "\n",
    "        \"\"\"\n",
    "        to_move = self.data[move.from_stack][-move.n_moves:]\n",
    "        del self.data[move.from_stack][-move.n_moves:]\n",
    "        self.data[move.to_stack].extend(to_move)\n",
    "    "
   ]
  },
  {
   "cell_type": "code",
   "execution_count": 75,
   "id": "dac34e81",
   "metadata": {},
   "outputs": [
    {
     "data": {
      "text/plain": [
       "{1: ['F', 'T', 'C', 'L', 'R', 'P', 'G', 'Q'],\n",
       " 2: ['N', 'Q', 'H', 'W', 'R', 'F', 'S', 'J'],\n",
       " 3: ['F', 'B', 'H', 'W', 'P', 'M', 'Q'],\n",
       " 4: ['V', 'S', 'T', 'D', 'F'],\n",
       " 5: ['Q', 'L', 'D', 'W', 'V', 'F', 'Z'],\n",
       " 6: ['Z', 'C', 'L', 'S'],\n",
       " 7: ['Z', 'B', 'M', 'V', 'D', 'F'],\n",
       " 8: ['T', 'J', 'B'],\n",
       " 9: ['Q', 'N', 'B', 'G', 'L', 'S', 'P', 'H']}"
      ]
     },
     "execution_count": 75,
     "metadata": {},
     "output_type": "execute_result"
    }
   ],
   "source": [
    "stacks = StacksData9001.from_data(stacks_data)\n",
    "stacks.data"
   ]
  },
  {
   "cell_type": "code",
   "execution_count": 76,
   "id": "407321f1",
   "metadata": {},
   "outputs": [],
   "source": [
    "for m in moves:\n",
    "    stacks.move_crates(m)"
   ]
  },
  {
   "cell_type": "code",
   "execution_count": 77,
   "id": "c571e2f0",
   "metadata": {},
   "outputs": [
    {
     "data": {
      "text/plain": [
       "'LBBVJBRMH'"
      ]
     },
     "execution_count": 77,
     "metadata": {},
     "output_type": "execute_result"
    }
   ],
   "source": [
    "''.join(stacks.topmost_crates())"
   ]
  },
  {
   "cell_type": "code",
   "execution_count": null,
   "id": "2cb59ba0",
   "metadata": {},
   "outputs": [],
   "source": []
  },
  {
   "cell_type": "code",
   "execution_count": null,
   "id": "d3505445",
   "metadata": {},
   "outputs": [],
   "source": []
  }
 ],
 "metadata": {
  "kernelspec": {
   "display_name": "Python 3 (ipykernel)",
   "language": "python",
   "name": "python3"
  },
  "language_info": {
   "codemirror_mode": {
    "name": "ipython",
    "version": 3
   },
   "file_extension": ".py",
   "mimetype": "text/x-python",
   "name": "python",
   "nbconvert_exporter": "python",
   "pygments_lexer": "ipython3",
   "version": "3.11.0a6"
  }
 },
 "nbformat": 4,
 "nbformat_minor": 5
}

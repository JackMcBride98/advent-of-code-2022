{
 "cells": [
  {
   "cell_type": "markdown",
   "id": "a2ccabf6",
   "metadata": {},
   "source": [
    "https://adventofcode.com/2022/day/12"
   ]
  },
  {
   "cell_type": "code",
   "execution_count": 1,
   "id": "f623eb37",
   "metadata": {},
   "outputs": [],
   "source": [
    "from dataclasses import dataclass\n",
    "from typing import Optional\n",
    "\n",
    "import numpy as np\n",
    "\n",
    "@dataclass\n",
    "class Node():\n",
    "    node_id: int\n",
    "    height: int\n",
    "    neighbours: list\n",
    "    distance: Optional[int] = None\n",
    "    visited: bool = False\n",
    "        \n",
    "def load_data(filename: str) -> np.ndarray:\n",
    "    with open(filename, 'r') as f:\n",
    "        data = [list(line.strip()) for line in f.readlines()]\n",
    "    return np.array(data, dtype=str)\n",
    "\n",
    "def char_to_height(s: str) -> int:\n",
    "    match s:\n",
    "        case 'S':\n",
    "            return 1\n",
    "        case 'E':\n",
    "            return 26\n",
    "        case _:\n",
    "            return ord(s)-96\n",
    "        \n",
    "def data_to_graph(data: np.ndarray) -> np.ndarray:\n",
    "    heights = np.vectorize(char_to_height)(data)\n",
    "    node_numbers = np.arange(data.size).reshape(data.shape[0], -1)\n",
    "    nodes = []\n",
    "    node_id = 0\n",
    "    for i in range(data.shape[0]):\n",
    "        for j in range(data.shape[1]):\n",
    "            neighbours = []\n",
    "            h = heights[i,j]\n",
    "            if i > 0 and heights[i-1, j]:\n",
    "                neighbours.append(node_numbers[i-1, j])\n",
    "            if j > 0 and heights[i, j-1]:\n",
    "                neighbours.append(node_numbers[i, j-1])\n",
    "            if i < heights.shape[0] - 1:\n",
    "                neighbours.append(node_numbers[i+1, j])\n",
    "            if j < heights.shape[1] - 1:\n",
    "                    neighbours.append(node_numbers[i, j+1])\n",
    "            nodes.append(Node(node_id = node_id,\n",
    "                              height = heights[i, j],\n",
    "                              neighbours = neighbours))\n",
    "            node_id += 1\n",
    "    return nodes\n",
    "\n",
    "def get_node_id_from_string(data: np.ndarray,\n",
    "                            s: str) -> int:\n",
    "    return np.dot(np.hstack(np.where(data == s)), [data.shape[1], 1])\n",
    "\n",
    "def breadth_first_search(graph, start, accessible):\n",
    "    start_node = graph[start]\n",
    "    start_node.distance = 0\n",
    "    start_node.visited = True\n",
    "    queue = [start_node]\n",
    "    steps = 0\n",
    "    while queue:\n",
    "        steps += 1\n",
    "        this_node = queue.pop(0)\n",
    "        for nnode in [graph[n] for n in this_node.neighbours]:\n",
    "            if (not nnode.visited) and accessible(this_node.height, nnode.height):\n",
    "                nnode.distance = this_node.distance + 1\n",
    "                nnode.visited = True\n",
    "                queue.append(nnode)\n",
    "    \n",
    "def solve_part_1(data):\n",
    "    graph = data_to_graph(data)\n",
    "    start = get_node_id_from_string(data, 'S')\n",
    "    end = get_node_id_from_string(data, 'E')\n",
    "    accessible = lambda n, nn: nn <= n + 1\n",
    "    breadth_first_search(graph, start, accessible)\n",
    "    return graph[end].distance\n",
    "\n",
    "def solve_part_2(data):\n",
    "    graph = data_to_graph(data)\n",
    "    start = get_node_id_from_string(data, 'E')\n",
    "    end = get_node_id_from_string(data, 'S')\n",
    "    accessible = lambda n, nn: nn >= n - 1\n",
    "    breadth_first_search(graph, start, accessible)\n",
    "    return sorted([node for node in graph if node.height == 1 and node.visited],\n",
    "                  key=lambda x: x.distance)[0].distance"
   ]
  },
  {
   "cell_type": "code",
   "execution_count": 2,
   "id": "4903b9a5",
   "metadata": {},
   "outputs": [],
   "source": [
    "filename = \"../example_data/day12_example_data.txt\"\n",
    "example_data = load_data(filename)\n",
    "\n",
    "filename = \"../data/day12_data.txt\"\n",
    "data = load_data(filename)"
   ]
  },
  {
   "cell_type": "code",
   "execution_count": 3,
   "id": "2b71e60a",
   "metadata": {},
   "outputs": [
    {
     "data": {
      "text/plain": [
       "31"
      ]
     },
     "execution_count": 3,
     "metadata": {},
     "output_type": "execute_result"
    }
   ],
   "source": [
    "solve_part_1(example_data)"
   ]
  },
  {
   "cell_type": "code",
   "execution_count": 4,
   "id": "76169931",
   "metadata": {},
   "outputs": [
    {
     "data": {
      "text/plain": [
       "504"
      ]
     },
     "execution_count": 4,
     "metadata": {},
     "output_type": "execute_result"
    }
   ],
   "source": [
    "solve_part_1(data)"
   ]
  },
  {
   "cell_type": "code",
   "execution_count": 5,
   "id": "af3716ca",
   "metadata": {},
   "outputs": [
    {
     "data": {
      "text/plain": [
       "29"
      ]
     },
     "execution_count": 5,
     "metadata": {},
     "output_type": "execute_result"
    }
   ],
   "source": [
    "solve_part_2(example_data)"
   ]
  },
  {
   "cell_type": "code",
   "execution_count": 6,
   "id": "1fb18d44",
   "metadata": {},
   "outputs": [
    {
     "data": {
      "text/plain": [
       "500"
      ]
     },
     "execution_count": 6,
     "metadata": {},
     "output_type": "execute_result"
    }
   ],
   "source": [
    "solve_part_2(data)"
   ]
  }
 ],
 "metadata": {
  "kernelspec": {
   "display_name": "Python 3 (ipykernel)",
   "language": "python",
   "name": "python3"
  },
  "language_info": {
   "codemirror_mode": {
    "name": "ipython",
    "version": 3
   },
   "file_extension": ".py",
   "mimetype": "text/x-python",
   "name": "python",
   "nbconvert_exporter": "python",
   "pygments_lexer": "ipython3",
   "version": "3.11.0a6"
  }
 },
 "nbformat": 4,
 "nbformat_minor": 5
}

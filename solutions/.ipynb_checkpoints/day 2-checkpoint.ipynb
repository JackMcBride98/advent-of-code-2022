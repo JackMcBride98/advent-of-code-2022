{
 "cells": [
  {
   "cell_type": "markdown",
   "id": "b1466322",
   "metadata": {},
   "source": [
    "https://adventofcode.com/2022/day/2"
   ]
  },
  {
   "cell_type": "code",
   "execution_count": 1,
   "id": "ab4f22be",
   "metadata": {},
   "outputs": [],
   "source": [
    "import numpy as np\n",
    "\n",
    "def read_data(filename):\n",
    "    return np.loadtxt(filename, dtype='str')\n",
    "\n",
    "opponent_move = {'A': 1,\n",
    "                 'B': 2,\n",
    "                 'C': 3}\n",
    "\n",
    "my_move = {'X': 1,\n",
    "           'Y': 2,\n",
    "           'Z': 3}\n",
    "\n",
    "# what is the score for each result?\n",
    "def match_score(x, y):\n",
    "    match (x-y)%3:\n",
    "        case 0:\n",
    "            return 3 # draw\n",
    "        case 1:\n",
    "            return 0 # loss\n",
    "        case 2:\n",
    "            return 6 # win\n",
    "    \n",
    "def solve_part_1(data):\n",
    "    # 1, 2, 3 encode rock, paper, scissors.\n",
    "    score = 0\n",
    "    for row in data:\n",
    "        a = opponent_move[row[0]]\n",
    "        b = my_move[row[1]]\n",
    "        score += b\n",
    "        score += match_score(a, b)\n",
    "    return score\n",
    "        \n",
    "def match_outcome(x, y):\n",
    "    moves = [3, 1, 2, 3, 1]\n",
    "    match y:\n",
    "        case 'X':\n",
    "            return moves[x-1] # loss\n",
    "        case 'Y':\n",
    "            return moves[x] # draw\n",
    "        case 'Z':\n",
    "            return moves[x+1] # win\n",
    "        \n",
    "def solve_part_2(data):\n",
    "    score = 0\n",
    "    for row in data:\n",
    "        a = opponent_move[row[0]]\n",
    "        b = match_outcome(a, row[1])\n",
    "        score += b\n",
    "        score += match_score(a, b)\n",
    "    return score"
   ]
  },
  {
   "cell_type": "code",
   "execution_count": 2,
   "id": "d4903bcd",
   "metadata": {},
   "outputs": [
    {
     "data": {
      "text/plain": [
       "15"
      ]
     },
     "execution_count": 2,
     "metadata": {},
     "output_type": "execute_result"
    }
   ],
   "source": [
    "filename = '../example_data/day2_example_data.txt'\n",
    "example_data = read_data(filename)\n",
    "solve_part_1(example_data)"
   ]
  },
  {
   "cell_type": "code",
   "execution_count": 3,
   "id": "c0fed4a6",
   "metadata": {},
   "outputs": [
    {
     "data": {
      "text/plain": [
       "15632"
      ]
     },
     "execution_count": 3,
     "metadata": {},
     "output_type": "execute_result"
    }
   ],
   "source": [
    "filename = '../data/day2_data.txt'\n",
    "data = read_data(filename)\n",
    "solve_part_1(data)"
   ]
  },
  {
   "cell_type": "code",
   "execution_count": 4,
   "id": "96fcf172",
   "metadata": {},
   "outputs": [
    {
     "data": {
      "text/plain": [
       "12"
      ]
     },
     "execution_count": 4,
     "metadata": {},
     "output_type": "execute_result"
    }
   ],
   "source": [
    "solve_part_2(example_data)"
   ]
  },
  {
   "cell_type": "code",
   "execution_count": 5,
   "id": "b8a909ee",
   "metadata": {},
   "outputs": [
    {
     "data": {
      "text/plain": [
       "14416"
      ]
     },
     "execution_count": 5,
     "metadata": {},
     "output_type": "execute_result"
    }
   ],
   "source": [
    "solve_part_2(data)"
   ]
  }
 ],
 "metadata": {
  "kernelspec": {
   "display_name": "Python 3 (ipykernel)",
   "language": "python",
   "name": "python3"
  },
  "language_info": {
   "codemirror_mode": {
    "name": "ipython",
    "version": 3
   },
   "file_extension": ".py",
   "mimetype": "text/x-python",
   "name": "python",
   "nbconvert_exporter": "python",
   "pygments_lexer": "ipython3",
   "version": "3.11.0a6"
  }
 },
 "nbformat": 4,
 "nbformat_minor": 5
}

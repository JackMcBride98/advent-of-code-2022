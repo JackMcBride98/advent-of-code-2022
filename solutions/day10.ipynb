{
 "cells": [
  {
   "cell_type": "code",
   "execution_count": 68,
   "id": "10661c75",
   "metadata": {},
   "outputs": [],
   "source": [
    "class CPU():\n",
    "    \n",
    "    def __init__(self, crt=False):\n",
    "        self.X = 1\n",
    "        self.log = []\n",
    "        self.crt = crt\n",
    "        self.screen_buffer = ''\n",
    "        self.pixel = 0\n",
    "    \n",
    "    def cycle(self):\n",
    "        if self.crt:\n",
    "            self.update_crt()\n",
    "        self.log.append(self.X)\n",
    "        \n",
    "    def update_crt(self):\n",
    "        self.draw_pixel()\n",
    "        self.pixel = (self.pixel + 1)\n",
    "        if self.pixel == 40:\n",
    "            self.pixel = 0\n",
    "            self.screen_buffer += \"\\n\"\n",
    "    \n",
    "    def noop(self):\n",
    "        self.cycle()\n",
    "\n",
    "        \n",
    "    def addx(self, x):\n",
    "        self.cycle()\n",
    "        self.cycle()\n",
    "        self.X += x\n",
    "        \n",
    "    def signal_strength(self, cycle):\n",
    "        return self.log[cycle-1] * cycle\n",
    "    \n",
    "    def draw_pixel(self):\n",
    "        if self.pixel in [self.X-1, self.X, self.X+1]:\n",
    "            self.screen_buffer += '#'\n",
    "        else:\n",
    "            self.screen_buffer += '.'\n",
    "        \n",
    "        "
   ]
  },
  {
   "cell_type": "code",
   "execution_count": 69,
   "id": "91da6d44",
   "metadata": {},
   "outputs": [],
   "source": [
    "def load_data(filename):\n",
    "    with open(filename, 'r') as f:\n",
    "        data = [line.strip().split() for line in f.readlines()]\n",
    "    return data"
   ]
  },
  {
   "cell_type": "code",
   "execution_count": 75,
   "id": "4217efa5",
   "metadata": {},
   "outputs": [],
   "source": [
    "# data_filename = \"AoC day 10 example data.txt\"\n",
    "data_filename = \"AoC day 10 data.txt\"\n",
    "data = load_data(data_filename)"
   ]
  },
  {
   "cell_type": "code",
   "execution_count": 76,
   "id": "2e75e28a",
   "metadata": {},
   "outputs": [],
   "source": [
    "c = CPU(crt=True)\n",
    "for instruction in data:\n",
    "    match instruction[0]:\n",
    "        case \"noop\":\n",
    "            c.noop()\n",
    "        case \"addx\":\n",
    "            c.addx(int(instruction[1]))"
   ]
  },
  {
   "cell_type": "code",
   "execution_count": 77,
   "id": "426c57f5",
   "metadata": {},
   "outputs": [
    {
     "name": "stdout",
     "output_type": "stream",
     "text": [
      "####..##..###...##....##.####...##.####.\n",
      "...#.#..#.#..#.#..#....#.#.......#....#.\n",
      "..#..#....###..#..#....#.###.....#...#..\n",
      ".#...#....#..#.####....#.#.......#..#...\n",
      "#....#..#.#..#.#..#.#..#.#....#..#.#....\n",
      "####..##..###..#..#..##..#.....##..####.\n",
      "\n"
     ]
    }
   ],
   "source": [
    "print(c.screen_buffer)"
   ]
  },
  {
   "cell_type": "code",
   "execution_count": 74,
   "id": "fbf4a64d",
   "metadata": {},
   "outputs": [
    {
     "data": {
      "text/plain": [
       "13140"
      ]
     },
     "execution_count": 74,
     "metadata": {},
     "output_type": "execute_result"
    }
   ],
   "source": [
    "cycles = [20, 60, 100, 140, 180, 220]\n",
    "\n",
    "sum([c.signal_strength(n) for n in cycles])"
   ]
  },
  {
   "cell_type": "code",
   "execution_count": null,
   "id": "0c97597b",
   "metadata": {},
   "outputs": [],
   "source": []
  }
 ],
 "metadata": {
  "kernelspec": {
   "display_name": "Python 3 (ipykernel)",
   "language": "python",
   "name": "python3"
  },
  "language_info": {
   "codemirror_mode": {
    "name": "ipython",
    "version": 3
   },
   "file_extension": ".py",
   "mimetype": "text/x-python",
   "name": "python",
   "nbconvert_exporter": "python",
   "pygments_lexer": "ipython3",
   "version": "3.11.0a6"
  }
 },
 "nbformat": 4,
 "nbformat_minor": 5
}

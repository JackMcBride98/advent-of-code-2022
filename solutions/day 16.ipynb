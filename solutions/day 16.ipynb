{
 "cells": [
  {
   "cell_type": "code",
   "execution_count": 1,
   "id": "d19cd5bc",
   "metadata": {},
   "outputs": [],
   "source": [
    "import numpy as np\n",
    "import re\n",
    "from itertools import combinations, permutations\n",
    "from copy import copy"
   ]
  },
  {
   "cell_type": "code",
   "execution_count": 2,
   "id": "16041e32",
   "metadata": {},
   "outputs": [],
   "source": [
    "from dataclasses import dataclass\n",
    "\n",
    "@dataclass\n",
    "class Cave():\n",
    "    label: str\n",
    "    tunnels: tuple[str]\n",
    "    flow: int"
   ]
  },
  {
   "cell_type": "code",
   "execution_count": 3,
   "id": "5e6b21a1",
   "metadata": {},
   "outputs": [],
   "source": [
    "def load_data(filename):\n",
    "    with open(filename, 'r') as f:\n",
    "        lines = map(str.strip, f.readlines())\n",
    "    caves = []\n",
    "    for l in lines:\n",
    "        labels = re.findall('[A-Z]{2}', l)\n",
    "        flow = int(re.search('\\d+', l)[0])\n",
    "        caves.append(Cave(labels[0], labels[1:], flow))\n",
    "    return caves"
   ]
  },
  {
   "cell_type": "code",
   "execution_count": 4,
   "id": "4702c66d",
   "metadata": {},
   "outputs": [],
   "source": [
    "def adjacency_matrix(nodes: list[Cave]) -> np.ndarray:\n",
    "    index_mapping = {n.label: i for i, n in enumerate(nodes)}\n",
    "    A = np.zeros((len(nodes), len(nodes)), dtype=int)\n",
    "    for n in nodes:\n",
    "        for t in n.tunnels:\n",
    "            A[index_mapping[n.label], index_mapping[t]] = 1\n",
    "    return A"
   ]
  },
  {
   "cell_type": "code",
   "execution_count": 5,
   "id": "5900872d",
   "metadata": {},
   "outputs": [],
   "source": [
    "# compute the distance matrix\n",
    "def distance_matrix(A: np.ndarray) -> np.ndarray:\n",
    "    \"\"\"Uses the Floyd-Warshall algorithm to compute a distance\n",
    "       matrix from an adjacency matrix.\n",
    "       \n",
    "    Args:\n",
    "        A (np.ndarray): Adjacency matrix.\n",
    "        \n",
    "    Returns:\n",
    "        np.ndarray\n",
    "        \n",
    "    \"\"\"\n",
    "    l = A.shape[0]\n",
    "    D = np.where(A, A, 10000)\n",
    "    d = np.diag([1]*l, 0)\n",
    "    D = np.where(d, 0, D)\n",
    "    for i, row in enumerate(D):\n",
    "        neighbours = np.where(row != 10000)[0]\n",
    "        for n1, n2 in permutations(neighbours, 2):\n",
    "            d = min(row[n1] + row[n2], D[n1, n2])\n",
    "            D[n1, n2] = d\n",
    "            D[n2, n1] = d\n",
    "    return D.astype(int)"
   ]
  },
  {
   "cell_type": "code",
   "execution_count": 6,
   "id": "6f457bc2",
   "metadata": {},
   "outputs": [],
   "source": [
    "class Path():\n",
    "    \n",
    "    def __init__(self,\n",
    "                 time: int,\n",
    "                 initial_cave: int) -> None:\n",
    "        self.time = time\n",
    "        self.visited=[initial_cave]\n",
    "        self.pressure = 0\n",
    "        \n",
    "    def copy(self):\n",
    "        new_path = Path(time=self.time,\n",
    "                        initial_cave=self.visited[0])\n",
    "        new_path.visited = self.visited.copy()\n",
    "        new_path.pressure = self.pressure\n",
    "        return new_path"
   ]
  },
  {
   "cell_type": "code",
   "execution_count": 7,
   "id": "bedc5c22",
   "metadata": {},
   "outputs": [
    {
     "data": {
      "text/plain": [
       "1651"
      ]
     },
     "execution_count": 7,
     "metadata": {},
     "output_type": "execute_result"
    }
   ],
   "source": [
    "filename = '../example_data/day16_example_data.txt'\n",
    "caves = load_data(filename)\n",
    "A = adjacency_matrix(caves)\n",
    "D = distance_matrix(A)\n",
    "labels = [c.label for c in caves]\n",
    "flows = np.array([c.flow for c in caves])\n",
    "initial_cave = next(i for i, c in enumerate(caves) if c.label == 'AA')\n",
    "total_time = 30\n",
    "\n",
    "path = Path(total_time, initial_cave)\n",
    "stack = [path]\n",
    "complete_paths = []\n",
    "while stack:\n",
    "    path = stack.pop(0)\n",
    "    new = []\n",
    "    possible_next_caves = [i for i, f in enumerate(flows) if (i not in path.visited) and (f != 0)]\n",
    "    times_per_cave = [D[path.visited[-1]][c]+1 for c in possible_next_caves]\n",
    "    for t, c in zip(times_per_cave, possible_next_caves):\n",
    "        if path.time - t <= 0:\n",
    "            continue\n",
    "        extended_path = path.copy()\n",
    "        extended_path.time -= t\n",
    "        extended_path.visited.append(c)\n",
    "        extended_path.pressure += (path.time - t) * flows[c]\n",
    "        new.append(extended_path)\n",
    "    if new:\n",
    "        stack.extend(new)\n",
    "    else:\n",
    "        complete_paths.append(path)\n",
    "max([p.pressure for p in complete_paths])"
   ]
  },
  {
   "cell_type": "code",
   "execution_count": 8,
   "id": "e594f60a",
   "metadata": {},
   "outputs": [
    {
     "data": {
      "text/plain": [
       "1460"
      ]
     },
     "execution_count": 8,
     "metadata": {},
     "output_type": "execute_result"
    }
   ],
   "source": [
    "filename = '../data/day16_data.txt'\n",
    "caves = load_data(filename)\n",
    "A = adjacency_matrix(caves)\n",
    "D = distance_matrix(A)\n",
    "labels = [c.label for c in caves]\n",
    "flows = np.array([c.flow for c in caves])\n",
    "initial_cave = next(i for i, c in enumerate(caves) if c.label == 'AA')\n",
    "total_time = 30\n",
    "\n",
    "path = Path(total_time, initial_cave)\n",
    "stack = [path]\n",
    "complete_paths = []\n",
    "while stack:\n",
    "    path = stack.pop(0)\n",
    "    new = []\n",
    "    possible_next_caves = sorted([i for i, f in enumerate(flows) if (i not in path.visited) and (f != 0)])\n",
    "    times_per_cave = [D[path.visited[-1]][c]+1 for c in possible_next_caves]\n",
    "    for t, c in zip(times_per_cave, possible_next_caves):\n",
    "        if path.time - t <= 0:\n",
    "            continue\n",
    "        extended_path = Path(time=path.time - t, initial_cave=path.visited[0])\n",
    "        extended_path.visited = path.visited + [c]\n",
    "        extended_path.pressure = path.pressure + (path.time - t) * flows[c]\n",
    "        new.append(extended_path)\n",
    "    if new:\n",
    "        stack.extend(new)\n",
    "    else:\n",
    "        complete_paths.append(path)\n",
    "\n",
    "max([p.pressure for p in complete_paths])"
   ]
  }
 ],
 "metadata": {
  "kernelspec": {
   "display_name": "Python 3 (ipykernel)",
   "language": "python",
   "name": "python3"
  },
  "language_info": {
   "codemirror_mode": {
    "name": "ipython",
    "version": 3
   },
   "file_extension": ".py",
   "mimetype": "text/x-python",
   "name": "python",
   "nbconvert_exporter": "python",
   "pygments_lexer": "ipython3",
   "version": "3.11.0a6"
  }
 },
 "nbformat": 4,
 "nbformat_minor": 5
}

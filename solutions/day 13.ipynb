{
 "cells": [
  {
   "cell_type": "markdown",
   "id": "834466a2",
   "metadata": {},
   "source": [
    "https://adventofcode.com/2022/day/13"
   ]
  },
  {
   "cell_type": "code",
   "execution_count": 1,
   "id": "7dccaab9",
   "metadata": {},
   "outputs": [],
   "source": [
    "import re\n",
    "from dataclasses import dataclass\n",
    "from copy import copy\n",
    "from functools import cmp_to_key\n",
    "import json\n",
    "\n",
    "def read_data_in_pairs(filename: str) -> list:\n",
    "    with open(filename, 'r') as f:\n",
    "        signal_pairs = [pair.split('\\n') for pair in f.read().split('\\n\\n')]\n",
    "    return signal_pairs\n",
    "\n",
    "def read_all_signals(filename: str) -> list:\n",
    "    with open(filename, 'r') as f:\n",
    "        signals = [line for line in f.read().split('\\n') if line]\n",
    "    return signals\n",
    "\n",
    "def parse_signal_string(signal: str) -> list:\n",
    "    to_return = []\n",
    "    current_list = to_return\n",
    "    parent_lists = []\n",
    "    signal = signal[1:-1] # strip outer list demarcation\n",
    "    while len(signal) > 0:\n",
    "        if signal[0] == '[':\n",
    "            current_list.append([])\n",
    "            parent_lists.append(current_list)\n",
    "            current_list = current_list[-1]\n",
    "            signal = signal[1:]\n",
    "        elif signal[0] == ']':\n",
    "            current_list = parent_lists.pop()\n",
    "            signal = signal[1:]\n",
    "        elif signal[0] == ',':\n",
    "            signal = signal[1:]\n",
    "        else:\n",
    "            s = re.search('\\d+', signal).group()\n",
    "            current_list.append(int(s))\n",
    "            signal = signal[len(s):]\n",
    "    return to_return\n",
    "\n",
    "def parse_signal_string_lol(signal: str) -> list:\n",
    "    return json.loads(signal)\n",
    "        \n",
    "def compare(x, y, level=0, verbose=False):\n",
    "    i = copy(x)\n",
    "    j = copy(y)\n",
    "    prefix = '  '*level\n",
    "    if verbose:\n",
    "        print(f\"{prefix}- Compare {i} vs {j}\")\n",
    "    if isinstance(i, int) and isinstance(j, int):\n",
    "        if i > j:\n",
    "            if verbose:\n",
    "                print(f\"{prefix}- Right side is smaller, so inputs are not in the right order\")\n",
    "            return False\n",
    "        elif i < j:\n",
    "            if verbose:\n",
    "                print(f\"{prefix}- Left side is smaller, so inputs are in the right order\")\n",
    "            return True\n",
    "        else:\n",
    "            return None\n",
    "    elif isinstance(i, list) and isinstance(j, list):\n",
    "        if len(i) < len(j):\n",
    "            i.extend([None]*(len(j)-len(i)))\n",
    "        if len(j) < len(i):\n",
    "            j.extend([None]*(len(i)-len(j)))\n",
    "        for a, b in zip(i, j):\n",
    "            if a == None:\n",
    "                if verbose:\n",
    "                    print(f\"{prefix}  - Left side ran out of items, so inputs are in the right order\")\n",
    "                return True\n",
    "            if b == None:\n",
    "                if verbose:\n",
    "                    print(f\"{prefix}  - Right side ran out of items, so inputs are not in the right order\")\n",
    "                return False         \n",
    "            result = compare(a, b, level=level+1, verbose=verbose)\n",
    "            if result is not None:\n",
    "                return result\n",
    "            else:\n",
    "                continue\n",
    "    elif isinstance(i, int) and isinstance(j, list):\n",
    "        if verbose:\n",
    "            print(f'{prefix}- Mixed types; convert left to [{i}] and retry comparison')\n",
    "        result = compare([i], j, level=level+1, verbose=verbose)\n",
    "        return result\n",
    "    elif isinstance(i, list) and isinstance(j, int):\n",
    "        if verbose:\n",
    "            print(f'{prefix}- Mixed types; convert right to [{j}] and retry comparison')\n",
    "        result = compare(i, [j], level=level+1, verbose=verbose)\n",
    "        return result\n",
    "\n",
    "def compare_wrapper(x, y):\n",
    "    if compare(x, y):\n",
    "        return -1\n",
    "    else:\n",
    "        return 1\n",
    "    \n",
    "def solve_part_1(filename: str,\n",
    "                 verbose: bool=False) -> int:\n",
    "    signal_pairs = read_data_in_pairs(filename)\n",
    "    right_order_pairs = []\n",
    "    for i, pair in enumerate(signal_pairs, 1):\n",
    "        if verbose:\n",
    "            print(f'=== Pair {i} ===')\n",
    "        s1 = parse_signal_string_lol(pair[0])\n",
    "        s2 = parse_signal_string_lol(pair[1])\n",
    "        right_order = compare(s1, s2, verbose=verbose)\n",
    "        if right_order:\n",
    "            right_order_pairs.append(i)\n",
    "        if verbose:\n",
    "            print()\n",
    "    return sum(right_order_pairs)\n",
    "\n",
    "def solve_part_2(filename: str) -> int:\n",
    "    data = read_all_signals(filename)\n",
    "    signals = [parse_signal_string_lol(s) for s in data]\n",
    "    divider_packets = [[[2]], [[6]]]\n",
    "    signals.extend(divider_packets)\n",
    "    sorted_signals = sorted(signals, key=cmp_to_key(compare_wrapper))\n",
    "    loc = [sorted_signals.index(d)+1 for d in divider_packets]\n",
    "    return loc[0]*loc[1]"
   ]
  },
  {
   "cell_type": "code",
   "execution_count": 2,
   "id": "87c32168",
   "metadata": {},
   "outputs": [
    {
     "data": {
      "text/plain": [
       "13"
      ]
     },
     "execution_count": 2,
     "metadata": {},
     "output_type": "execute_result"
    }
   ],
   "source": [
    "filename = \"../example_data/day13_example_data.txt\"\n",
    "solve_part_1(filename=filename)"
   ]
  },
  {
   "cell_type": "code",
   "execution_count": 3,
   "id": "0c3e9a7f",
   "metadata": {},
   "outputs": [
    {
     "data": {
      "text/plain": [
       "5252"
      ]
     },
     "execution_count": 3,
     "metadata": {},
     "output_type": "execute_result"
    }
   ],
   "source": [
    "filename = \"../data/day13_data.txt\"\n",
    "solve_part_1(filename=filename)"
   ]
  },
  {
   "cell_type": "code",
   "execution_count": 4,
   "id": "efe1da38",
   "metadata": {},
   "outputs": [
    {
     "data": {
      "text/plain": [
       "140"
      ]
     },
     "execution_count": 4,
     "metadata": {},
     "output_type": "execute_result"
    }
   ],
   "source": [
    "filename = \"../example_data/day13_example_data.txt\"\n",
    "solve_part_2(filename=filename)"
   ]
  },
  {
   "cell_type": "code",
   "execution_count": 5,
   "id": "ee5c7c69",
   "metadata": {},
   "outputs": [
    {
     "data": {
      "text/plain": [
       "20592"
      ]
     },
     "execution_count": 5,
     "metadata": {},
     "output_type": "execute_result"
    }
   ],
   "source": [
    "filename = \"../data/day13_data.txt\"\n",
    "solve_part_2(filename=filename)"
   ]
  },
  {
   "cell_type": "markdown",
   "id": "6e1748a9",
   "metadata": {},
   "source": [
    "Comments:\n",
    "- While writing a custom parser was an interesting challenge, but I could have realised sooner that I could parse the input as JSON.\n",
    "- The `compare()` function could have been written as a standard Python `cmp()` function and returned an integer relative position for `a` versus `b`. This saves on some logic, avoids the mixing of `None` with bools, and avoids the use of `compare_wrapper()` for part 2.\n",
    "- Structural pattern matching using `match` … `case` could have cleaned up the logic in the `compare()` function further.\n",
    "- For part 2. a direct sort and search isn't needed. The position of the divider packets in the sorted list is given by the number of packets for which `a < d`, which can be computed directly using the `compare()` function from part 1.\n",
    "    - see e.g., https://www.reddit.com/r/adventofcode/comments/zkmyh4/2022_day_13_solutions/j00qay8/?context=3"
   ]
  },
  {
   "cell_type": "markdown",
   "id": "33bcbadb",
   "metadata": {},
   "source": [
    "## Revised solution:"
   ]
  },
  {
   "cell_type": "code",
   "execution_count": 6,
   "id": "96d631b2",
   "metadata": {},
   "outputs": [
    {
     "name": "stdout",
     "output_type": "stream",
     "text": [
      "5252\n",
      "20592\n"
     ]
    }
   ],
   "source": [
    "import json\n",
    "\n",
    "def cmp(l, r):\n",
    "    match l, r:\n",
    "        case int(), int():  return l - r\n",
    "        case list(), int(): return cmp(l, [r])\n",
    "        case int(), list(): return cmp([l], r)\n",
    "        case list(), list():\n",
    "            for z in map(cmp, l, r):\n",
    "                if z: return z\n",
    "            return len(l) - len(r)\n",
    "\n",
    "filename = \"../data/day13_data.txt\"\n",
    "with open(filename, 'r') as f:\n",
    "    data = [json.loads(s) for s in f.read().split('\\n') if s]\n",
    "p1 = sum([i for i, (l, r) in enumerate(zip(data[::2], data[1::2]), 1) if cmp(l, r) < 0])\n",
    "print(p1)\n",
    "pos1 = sum([1 for d in data if cmp(d, [[2]]) < 0])+1\n",
    "pos2 = sum([1 for d in data if cmp(d, [[6]]) < 0])+2\n",
    "p2 = pos1 * pos2\n",
    "print(p2)"
   ]
  }
 ],
 "metadata": {
  "kernelspec": {
   "display_name": "Python 3 (ipykernel)",
   "language": "python",
   "name": "python3"
  },
  "language_info": {
   "codemirror_mode": {
    "name": "ipython",
    "version": 3
   },
   "file_extension": ".py",
   "mimetype": "text/x-python",
   "name": "python",
   "nbconvert_exporter": "python",
   "pygments_lexer": "ipython3",
   "version": "3.11.0a6"
  }
 },
 "nbformat": 4,
 "nbformat_minor": 5
}

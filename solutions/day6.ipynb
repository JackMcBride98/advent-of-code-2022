{
 "cells": [
  {
   "cell_type": "code",
   "execution_count": 27,
   "id": "10c741fd",
   "metadata": {},
   "outputs": [],
   "source": [
    "filename = \"AoC day 6 data.txt\"\n",
    "with open(filename, 'r') as f:\n",
    "    data = f.readline().strip()"
   ]
  },
  {
   "cell_type": "code",
   "execution_count": 28,
   "id": "e57dd1be",
   "metadata": {},
   "outputs": [],
   "source": [
    "def chars_to_marker(input_string: str) -> int:\n",
    "    l = len(input_string)\n",
    "    for i in range(l-4):\n",
    "        sub_string = input_string[i:i+4]\n",
    "        if len(set(sub_string)) == 4:\n",
    "            return i+4\n",
    "    return -1"
   ]
  },
  {
   "cell_type": "code",
   "execution_count": 29,
   "id": "52adc3b3",
   "metadata": {},
   "outputs": [],
   "source": [
    "assert chars_to_marker(\"mjqjpqmgbljsphdztnvjfqwrcgsmlb\") == 7\n",
    "assert chars_to_marker(\"bvwbjplbgvbhsrlpgdmjqwftvncz\") == 5\n",
    "assert chars_to_marker(\"nppdvjthqldpwncqszvftbrmjlhg\") == 6\n",
    "assert chars_to_marker(\"nznrnfrfntjfmvfwmzdfjlvtqnbhcprsg\") == 10\n",
    "assert chars_to_marker(\"zcfzfwzzqfrljwzlrfnpqdbhtmscgvjw\") == 11"
   ]
  },
  {
   "cell_type": "code",
   "execution_count": 31,
   "id": "077be5c2",
   "metadata": {},
   "outputs": [
    {
     "data": {
      "text/plain": [
       "1658"
      ]
     },
     "execution_count": 31,
     "metadata": {},
     "output_type": "execute_result"
    }
   ],
   "source": [
    "chars_to_marker(data)"
   ]
  },
  {
   "cell_type": "code",
   "execution_count": 38,
   "id": "0830a0f2",
   "metadata": {},
   "outputs": [],
   "source": [
    "def chars_to_signal(input_string: str,\n",
    "                    length: int) -> int:\n",
    "    l = len(input_string)\n",
    "    for i in range(l-length):\n",
    "        sub_string = input_string[i:i+length]\n",
    "        if len(set(sub_string)) == len(sub_string):\n",
    "            return i+length\n",
    "    return -1"
   ]
  },
  {
   "cell_type": "code",
   "execution_count": 39,
   "id": "a731872e",
   "metadata": {},
   "outputs": [
    {
     "ename": "AssertionError",
     "evalue": "",
     "output_type": "error",
     "traceback": [
      "\u001b[0;31m---------------------------------------------------------------------------\u001b[0m",
      "\u001b[0;31mAssertionError\u001b[0m                            Traceback (most recent call last)",
      "Cell \u001b[0;32mIn [39], line 2\u001b[0m\n\u001b[1;32m      1\u001b[0m \u001b[38;5;28;01massert\u001b[39;00m chars_to_signal(\u001b[38;5;124m\"\u001b[39m\u001b[38;5;124mmjqjpqmgbljsphdztnvjfqwrcgsmlb\u001b[39m\u001b[38;5;124m\"\u001b[39m, \u001b[38;5;241m14\u001b[39m) \u001b[38;5;241m==\u001b[39m \u001b[38;5;241m19\u001b[39m\n\u001b[0;32m----> 2\u001b[0m \u001b[38;5;28;01massert\u001b[39;00m chars_to_signal(\u001b[38;5;124m\"\u001b[39m\u001b[38;5;124mbvwbjplbgvbhsrlpgdmjqwftvncz\u001b[39m\u001b[38;5;124m\"\u001b[39m, \u001b[38;5;241m14\u001b[39m) \u001b[38;5;241m==\u001b[39m \u001b[38;5;241m5\u001b[39m\n\u001b[1;32m      3\u001b[0m \u001b[38;5;28;01massert\u001b[39;00m chars_to_signal(\u001b[38;5;124m\"\u001b[39m\u001b[38;5;124mnppdvjthqldpwncqszvftbrmjlhg\u001b[39m\u001b[38;5;124m\"\u001b[39m, \u001b[38;5;241m14\u001b[39m) \u001b[38;5;241m==\u001b[39m \u001b[38;5;241m6\u001b[39m\n\u001b[1;32m      4\u001b[0m \u001b[38;5;28;01massert\u001b[39;00m chars_to_signal(\u001b[38;5;124m\"\u001b[39m\u001b[38;5;124mnznrnfrfntjfmvfwmzdfjlvtqnbhcprsg\u001b[39m\u001b[38;5;124m\"\u001b[39m, \u001b[38;5;241m14\u001b[39m) \u001b[38;5;241m==\u001b[39m \u001b[38;5;241m10\u001b[39m\n",
      "\u001b[0;31mAssertionError\u001b[0m: "
     ]
    }
   ],
   "source": [
    "assert chars_to_signal(\"mjqjpqmgbljsphdztnvjfqwrcgsmlb\", 14) == 19\n",
    "assert chars_to_signal(\"bvwbjplbgvbhsrlpgdmjqwftvncz\", 14) == 5\n",
    "assert chars_to_signal(\"nppdvjthqldpwncqszvftbrmjlhg\", 14) == 6\n",
    "assert chars_to_signal(\"nznrnfrfntjfmvfwmzdfjlvtqnbhcprsg\", 14) == 10\n",
    "assert chars_to_signal(\"zcfzfwzzqfrljwzlrfnpqdbhtmscgvjw\", 14) == 11"
   ]
  },
  {
   "cell_type": "code",
   "execution_count": 40,
   "id": "f00d4a73",
   "metadata": {},
   "outputs": [
    {
     "data": {
      "text/plain": [
       "2260"
      ]
     },
     "execution_count": 40,
     "metadata": {},
     "output_type": "execute_result"
    }
   ],
   "source": [
    "chars_to_signal(data, 14)"
   ]
  },
  {
   "cell_type": "code",
   "execution_count": null,
   "id": "49d826e3",
   "metadata": {},
   "outputs": [],
   "source": []
  }
 ],
 "metadata": {
  "kernelspec": {
   "display_name": "Python 3 (ipykernel)",
   "language": "python",
   "name": "python3"
  },
  "language_info": {
   "codemirror_mode": {
    "name": "ipython",
    "version": 3
   },
   "file_extension": ".py",
   "mimetype": "text/x-python",
   "name": "python",
   "nbconvert_exporter": "python",
   "pygments_lexer": "ipython3",
   "version": "3.11.0a6"
  }
 },
 "nbformat": 4,
 "nbformat_minor": 5
}

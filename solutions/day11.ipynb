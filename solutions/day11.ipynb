{
 "cells": [
  {
   "cell_type": "code",
   "execution_count": 17,
   "id": "f2fc2c94",
   "metadata": {},
   "outputs": [],
   "source": [
    "from typing import Self, Callable\n",
    "import re\n",
    "from tqdm.notebook import tqdm\n",
    "import numpy as np"
   ]
  },
  {
   "cell_type": "code",
   "execution_count": 18,
   "id": "d398e6fb",
   "metadata": {},
   "outputs": [],
   "source": [
    "def load_data(filename):\n",
    "    with open(filename, 'r') as f:\n",
    "        data = f.read().split('\\n\\n')\n",
    "    return data"
   ]
  },
  {
   "cell_type": "code",
   "execution_count": 19,
   "id": "3175bcf3",
   "metadata": {},
   "outputs": [],
   "source": [
    "class Monkey():\n",
    "    \n",
    "    def __init__(self,\n",
    "                 number: int,               # number of this monkey\n",
    "                 items: list[int],          # list of items this monkey is carrying\n",
    "                 operation: Callable[int, int],  # operation i [int] -> j [int]\n",
    "                 test: int, \n",
    "                 if_true: int,              # number of the monkey to throw to if True\n",
    "                 if_false: int) -> None:    # number of the monkey to throw to if False\n",
    "        self.number = number\n",
    "        self.items = items\n",
    "        self.operation = operation\n",
    "        self.test = test\n",
    "        self.if_true = if_true\n",
    "        self.if_false = if_false\n",
    "        self.inspected = 0\n",
    "        \n",
    "    def divisible_by_test(self, n):\n",
    "        return n % self.test == 0\n",
    "        \n",
    "    @classmethod\n",
    "    def from_input_data(cls, d) -> Self:\n",
    "        lines = [line.strip() for line in d.split('\\n')]\n",
    "        number = int(lines[0].split(' ')[1].split(':')[0])\n",
    "        items = [int(s.split(',')[0]) for s in lines[1].split(' ')[2:]]\n",
    "        operation = lines[2].split(' ')[4:]\n",
    "        if operation[0] == '+':\n",
    "            operation_func = lambda x: x + int(operation[1])\n",
    "        elif operation[0] == '*':\n",
    "            if operation[1] == 'old':\n",
    "                operation_func =  lambda x: x * x\n",
    "            else:\n",
    "                operation_func = lambda x: x * int(operation[1])\n",
    "        else:\n",
    "            raise ValueError\n",
    "        divisible_by = int(lines[3].split(' ')[-1])\n",
    "        test = divisible_by\n",
    "        if_true = int(lines[4].split(' ')[-1])\n",
    "        if_false = int(lines[5].split(' ')[-1])\n",
    "        return Monkey(number=number,\n",
    "                      items=items,\n",
    "                      operation=operation_func,\n",
    "                      test=test,\n",
    "                      if_true=if_true,\n",
    "                      if_false=if_false)"
   ]
  },
  {
   "cell_type": "code",
   "execution_count": 20,
   "id": "fcc93b48",
   "metadata": {},
   "outputs": [],
   "source": [
    "filename = \"AoC day 11 example data.txt\"\n",
    "# filename = \"AoC day 11 data.txt\"\n",
    "data = load_data(filename)"
   ]
  },
  {
   "cell_type": "code",
   "execution_count": 21,
   "id": "47f8243e",
   "metadata": {},
   "outputs": [],
   "source": [
    "monkeys = {}\n",
    "for d in data:\n",
    "    m = Monkey.from_input_data(d)\n",
    "    monkeys[m.number] = m"
   ]
  },
  {
   "cell_type": "code",
   "execution_count": 22,
   "id": "00eabdbd",
   "metadata": {},
   "outputs": [],
   "source": [
    "def mim_round(monkeys):\n",
    "    for m in monkeys.values():\n",
    "#     print(f\"- Current monkey: {m.number}\\n\")\n",
    "        thrown_to = {i: [] for i in monkeys.keys()}\n",
    "        for item in m.items:\n",
    "            m.inspected += 1\n",
    "    #         print(f'Worry level: {item}')\n",
    "            new_worry_level = m.operation(item)\n",
    "    #         print(f'New worry level: {new_worry_level}')\n",
    "            test_value = new_worry_level // 3\n",
    "    #         print(f'Monkey is bored: {test_value}')\n",
    "            test_outcome = m.divisible_by_test(test_value)\n",
    "    #         print(f'{test_outcome}')\n",
    "            thrown_to = m.if_true if test_outcome else m.if_false\n",
    "    #         print(f'Thrown to monkey {thrown_to}')\n",
    "            monkeys[thrown_to].items.append(test_value)\n",
    "    #         print()\n",
    "        m.items = []\n",
    "# end of round:\n",
    "    for m in monkeys.values():\n",
    "        print(f\"Monkey {m.number}: {', '.join([str(i) for i in m.items])}\")"
   ]
  },
  {
   "cell_type": "code",
   "execution_count": 23,
   "id": "72aa4ed9",
   "metadata": {},
   "outputs": [
    {
     "name": "stdout",
     "output_type": "stream",
     "text": [
      "Monkey 0: 20, 23, 27, 26\n",
      "Monkey 1: 2080, 25, 167, 207, 401, 1046\n",
      "Monkey 2: \n",
      "Monkey 3: \n",
      "Monkey 0: 695, 10, 71, 135, 350\n",
      "Monkey 1: 43, 49, 58, 55, 362\n",
      "Monkey 2: \n",
      "Monkey 3: \n",
      "Monkey 0: 16, 18, 21, 20, 122\n",
      "Monkey 1: 1468, 22, 150, 286, 739\n",
      "Monkey 2: \n",
      "Monkey 3: \n",
      "Monkey 0: 491, 9, 52, 97, 248, 34\n",
      "Monkey 1: 39, 45, 43, 258\n",
      "Monkey 2: \n",
      "Monkey 3: \n",
      "Monkey 0: 15, 17, 16, 88, 1037\n",
      "Monkey 1: 20, 110, 205, 524, 72\n",
      "Monkey 2: \n",
      "Monkey 3: \n",
      "Monkey 0: 8, 70, 176, 26, 34\n",
      "Monkey 1: 481, 32, 36, 186, 2190\n",
      "Monkey 2: \n",
      "Monkey 3: \n",
      "Monkey 0: 162, 12, 14, 64, 732, 17\n",
      "Monkey 1: 148, 372, 55, 72\n",
      "Monkey 2: \n",
      "Monkey 3: \n",
      "Monkey 0: 51, 126, 20, 26, 136\n",
      "Monkey 1: 343, 26, 30, 1546, 36\n",
      "Monkey 2: \n",
      "Monkey 3: \n",
      "Monkey 0: 116, 10, 12, 517, 14\n",
      "Monkey 1: 108, 267, 43, 55, 288\n",
      "Monkey 2: \n",
      "Monkey 3: \n",
      "Monkey 0: 91, 16, 20, 98\n",
      "Monkey 1: 481, 245, 22, 26, 1092, 30\n",
      "Monkey 2: \n",
      "Monkey 3: \n",
      "Monkey 0: 162, 83, 9, 10, 366, 12, 34\n",
      "Monkey 1: 193, 43, 207\n",
      "Monkey 2: \n",
      "Monkey 3: \n",
      "Monkey 0: 66, 16, 71\n",
      "Monkey 1: 343, 176, 20, 22, 773, 26, 72\n",
      "Monkey 2: \n",
      "Monkey 3: \n",
      "Monkey 0: 116, 60, 8, 9, 259, 10, 26, 34\n",
      "Monkey 1: 140, 150\n",
      "Monkey 2: \n",
      "Monkey 3: \n",
      "Monkey 0: 48, 52, 17\n",
      "Monkey 1: 245, 127, 20, 547, 22, 55, 72\n",
      "Monkey 2: \n",
      "Monkey 3: \n",
      "Monkey 0: 83, 44, 8, 184, 9, 20, 26, 102\n",
      "Monkey 1: 110, 36\n",
      "Monkey 2: \n",
      "Monkey 3: \n",
      "Monkey 0: 14, 17\n",
      "Monkey 1: 481, 176, 93, 389, 20, 43, 55, 216\n",
      "Monkey 2: \n",
      "Monkey 3: \n",
      "Monkey 0: 162, 60, 33, 131, 8, 16, 20, 74\n",
      "Monkey 1: 30, 36\n",
      "Monkey 2: \n",
      "Monkey 3: \n",
      "Monkey 0: 12, 14, 17, 34\n",
      "Monkey 1: 343, 127, 70, 277, 43, 157\n",
      "Monkey 2: \n",
      "Monkey 3: \n",
      "Monkey 0: 116, 44, 25, 94, 16, 54\n",
      "Monkey 1: 26, 30, 36, 72\n",
      "Monkey 2: \n",
      "Monkey 3: \n",
      "Monkey 0: 10, 12, 14, 26, 34\n",
      "Monkey 1: 245, 93, 53, 199, 115\n",
      "Monkey 2: \n",
      "Monkey 3: \n"
     ]
    }
   ],
   "source": [
    "for i in range(20):\n",
    "    mim_round(monkeys)"
   ]
  },
  {
   "cell_type": "code",
   "execution_count": 24,
   "id": "4179094d",
   "metadata": {},
   "outputs": [
    {
     "name": "stdout",
     "output_type": "stream",
     "text": [
      "Monkey 0 inspected items 101 times.\n",
      "Monkey 1 inspected items 95 times.\n",
      "Monkey 2 inspected items 7 times.\n",
      "Monkey 3 inspected items 105 times.\n"
     ]
    }
   ],
   "source": [
    "for m in monkeys.values():\n",
    "    print(f'Monkey {m.number} inspected items {m.inspected} times.')"
   ]
  },
  {
   "cell_type": "code",
   "execution_count": 25,
   "id": "3f4944ab",
   "metadata": {},
   "outputs": [],
   "source": [
    "n_inspected = sorted([m.inspected for m in monkeys.values()])"
   ]
  },
  {
   "cell_type": "code",
   "execution_count": 26,
   "id": "ba4a72be",
   "metadata": {},
   "outputs": [
    {
     "name": "stdout",
     "output_type": "stream",
     "text": [
      "10605\n"
     ]
    }
   ],
   "source": [
    "monkey_business = n_inspected[-2] * n_inspected[-1]\n",
    "print(monkey_business)"
   ]
  },
  {
   "cell_type": "code",
   "execution_count": 27,
   "id": "89af9295",
   "metadata": {},
   "outputs": [],
   "source": [
    "# part 2"
   ]
  },
  {
   "cell_type": "code",
   "execution_count": 45,
   "id": "44c13e25",
   "metadata": {},
   "outputs": [],
   "source": [
    "def mim_round(monkeys):\n",
    "    supermod = np.prod([m.test for m in monkeys.values()])\n",
    "    for m in monkeys.values():\n",
    "        thrown_to = {i: [] for i in monkeys.keys()}\n",
    "        for item in m.items:\n",
    "            m.inspected += 1\n",
    "            new_worry_level = m.operation(item) % supermod\n",
    "            test_value = new_worry_level\n",
    "            test_outcome = m.divisible_by_test(test_value)\n",
    "            thrown_to = m.if_true if test_outcome else m.if_false\n",
    "            monkeys[thrown_to].items.append(test_value)\n",
    "        m.items = []\n",
    "# # end of round:\n",
    "#     for m in monkeys.values():\n",
    "#         print(f\"Monkey {m.number}: {', '.join([str(i) for i in m.items])}\")"
   ]
  },
  {
   "cell_type": "code",
   "execution_count": 52,
   "id": "8049a5f6",
   "metadata": {},
   "outputs": [],
   "source": [
    "# filename = \"AoC day 11 example data.txt\"\n",
    "filename = \"AoC day 11 data.txt\"\n",
    "data = load_data(filename)"
   ]
  },
  {
   "cell_type": "code",
   "execution_count": 53,
   "id": "c732aa92",
   "metadata": {},
   "outputs": [],
   "source": [
    "monkeys = {}\n",
    "for d in data:\n",
    "    m = Monkey.from_input_data(d)\n",
    "    monkeys[m.number] = m"
   ]
  },
  {
   "cell_type": "code",
   "execution_count": 54,
   "id": "0c8a1a44",
   "metadata": {},
   "outputs": [
    {
     "data": {
      "application/vnd.jupyter.widget-view+json": {
       "model_id": "a12477417d0c4cbf94555ebdaf188044",
       "version_major": 2,
       "version_minor": 0
      },
      "text/plain": [
       "  0%|          | 0/10000 [00:00<?, ?it/s]"
      ]
     },
     "metadata": {},
     "output_type": "display_data"
    }
   ],
   "source": [
    "for i in tqdm(range(10000)):\n",
    "    mim_round(monkeys)"
   ]
  },
  {
   "cell_type": "code",
   "execution_count": 55,
   "id": "5846643e",
   "metadata": {},
   "outputs": [
    {
     "name": "stdout",
     "output_type": "stream",
     "text": [
      "Monkey 0 inspected items 45924 times.\n",
      "Monkey 1 inspected items 131087 times.\n",
      "Monkey 2 inspected items 87798 times.\n",
      "Monkey 3 inspected items 95174 times.\n",
      "Monkey 4 inspected items 107420 times.\n",
      "Monkey 5 inspected items 96174 times.\n",
      "Monkey 6 inspected items 74384 times.\n",
      "Monkey 7 inspected items 41580 times.\n"
     ]
    }
   ],
   "source": [
    "for m in monkeys.values():\n",
    "    print(f'Monkey {m.number} inspected items {m.inspected} times.')"
   ]
  },
  {
   "cell_type": "code",
   "execution_count": 56,
   "id": "8e2cd750",
   "metadata": {},
   "outputs": [],
   "source": [
    "n_inspected = sorted([m.inspected for m in monkeys.values()])"
   ]
  },
  {
   "cell_type": "code",
   "execution_count": 57,
   "id": "93f29453",
   "metadata": {},
   "outputs": [
    {
     "name": "stdout",
     "output_type": "stream",
     "text": [
      "14081365540\n"
     ]
    }
   ],
   "source": [
    "monkey_business = n_inspected[-2] * n_inspected[-1]\n",
    "print(monkey_business)"
   ]
  },
  {
   "cell_type": "code",
   "execution_count": null,
   "id": "89443b9c",
   "metadata": {},
   "outputs": [],
   "source": []
  }
 ],
 "metadata": {
  "kernelspec": {
   "display_name": "Python 3 (ipykernel)",
   "language": "python",
   "name": "python3"
  },
  "language_info": {
   "codemirror_mode": {
    "name": "ipython",
    "version": 3
   },
   "file_extension": ".py",
   "mimetype": "text/x-python",
   "name": "python",
   "nbconvert_exporter": "python",
   "pygments_lexer": "ipython3",
   "version": "3.11.0a6"
  }
 },
 "nbformat": 4,
 "nbformat_minor": 5
}

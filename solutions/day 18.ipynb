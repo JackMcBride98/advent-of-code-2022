{
 "cells": [
  {
   "cell_type": "markdown",
   "id": "b9d41e73",
   "metadata": {},
   "source": [
    "https://adventofcode.com/2022/day/18"
   ]
  },
  {
   "cell_type": "code",
   "execution_count": 1,
   "id": "78fbee5c",
   "metadata": {},
   "outputs": [],
   "source": [
    "import numpy as np\n",
    "from collections import deque\n",
    "\n",
    "def load_data(filename: str):\n",
    "    return np.loadtxt(filename, delimiter=',', dtype=int)\n",
    "\n",
    "def as_grid(data, padding=False):\n",
    "    pad = 2 if padding else 1\n",
    "    maxs = np.max(data, axis=0)\n",
    "    grid = np.zeros(tuple(maxs+pad))\n",
    "    for row in data:\n",
    "        grid[tuple(row)] = 1\n",
    "    return grid\n",
    "\n",
    "dr = np.array([[1,0,0],\n",
    "               [-1,0,0],\n",
    "               [0,1,0],\n",
    "               [0,-1,0],\n",
    "               [0,0,1],\n",
    "               [0,0,-1]])\n",
    "\n",
    "def neighbours(r):\n",
    "    return r + dr\n",
    "    \n",
    "def flood3D(a, origin=(0,0,0)):\n",
    "    checks = 0\n",
    "    mins = np.array([-1, -1, -1])\n",
    "    maxs = np.array(a.shape)\n",
    "    blocked = set(list(map(tuple, np.array(np.where(a==1)).T)))\n",
    "    visited = set()\n",
    "    queue = deque([origin])\n",
    "    while queue:\n",
    "        p = queue.popleft()\n",
    "        visited.add(p)\n",
    "        checks += 1\n",
    "        n = neighbours(p)\n",
    "        to_add = set(list(map(tuple, n[((mins < n) & (n < maxs)).all(axis=1)])))\n",
    "        to_add -= set.union(visited, blocked, queue)\n",
    "        queue.extend(list(to_add))\n",
    "    return as_grid(list(visited))\n",
    "\n",
    "def surface_area(data):\n",
    "    all_sites = set([tuple(row) for row in data])\n",
    "    surface = 0\n",
    "    for row in data:\n",
    "        surface += len(set.difference(set(map(tuple, row + dr)), all_sites))\n",
    "    return surface\n",
    "\n",
    "def solve_part_1(filename):\n",
    "    data = load_data(filename)\n",
    "    return surface_area(data)\n",
    "\n",
    "def solve_part_2(filename):\n",
    "    data = load_data(filename)\n",
    "    filled_data = np.array(np.where(np.logical_not(flood3D(as_grid(data))).astype(int))).T\n",
    "    return surface_area(filled_data)    "
   ]
  },
  {
   "cell_type": "code",
   "execution_count": 2,
   "id": "72e5d270",
   "metadata": {},
   "outputs": [
    {
     "data": {
      "text/plain": [
       "64"
      ]
     },
     "execution_count": 2,
     "metadata": {},
     "output_type": "execute_result"
    }
   ],
   "source": [
    "filename = \"../example_data/day18_example_data.txt\"\n",
    "solve_part_1(filename)"
   ]
  },
  {
   "cell_type": "code",
   "execution_count": 3,
   "id": "1e710b7c",
   "metadata": {},
   "outputs": [
    {
     "data": {
      "text/plain": [
       "3564"
      ]
     },
     "execution_count": 3,
     "metadata": {},
     "output_type": "execute_result"
    }
   ],
   "source": [
    "filename = \"../data/day18_data.txt\"\n",
    "solve_part_1(filename)"
   ]
  },
  {
   "cell_type": "code",
   "execution_count": 4,
   "id": "f2781531",
   "metadata": {},
   "outputs": [
    {
     "data": {
      "text/plain": [
       "58"
      ]
     },
     "execution_count": 4,
     "metadata": {},
     "output_type": "execute_result"
    }
   ],
   "source": [
    "filename = \"../example_data/day18_example_data.txt\"\n",
    "solve_part_2(filename)"
   ]
  },
  {
   "cell_type": "code",
   "execution_count": 5,
   "id": "87874f29",
   "metadata": {},
   "outputs": [
    {
     "data": {
      "text/plain": [
       "2106"
      ]
     },
     "execution_count": 5,
     "metadata": {},
     "output_type": "execute_result"
    }
   ],
   "source": [
    "filename = \"../data/day18_data.txt\"\n",
    "solve_part_2(filename)"
   ]
  },
  {
   "cell_type": "code",
   "execution_count": 6,
   "id": "c9a10ca5",
   "metadata": {},
   "outputs": [
    {
     "name": "stdout",
     "output_type": "stream",
     "text": [
      "9.13 ms ± 133 µs per loop (mean ± std. dev. of 7 runs, 100 loops each)\n",
      "392 ms ± 2.66 ms per loop (mean ± std. dev. of 7 runs, 1 loop each)\n"
     ]
    }
   ],
   "source": [
    "filename = \"../data/day18_data.txt\"\n",
    "%timeit solve_part_1(filename)\n",
    "%timeit solve_part_2(filename)"
   ]
  }
 ],
 "metadata": {
  "kernelspec": {
   "display_name": "Python 3 (ipykernel)",
   "language": "python",
   "name": "python3"
  },
  "language_info": {
   "codemirror_mode": {
    "name": "ipython",
    "version": 3
   },
   "file_extension": ".py",
   "mimetype": "text/x-python",
   "name": "python",
   "nbconvert_exporter": "python",
   "pygments_lexer": "ipython3",
   "version": "3.11.0a6"
  }
 },
 "nbformat": 4,
 "nbformat_minor": 5
}

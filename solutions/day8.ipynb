{
 "cells": [
  {
   "cell_type": "code",
   "execution_count": 1,
   "id": "ca904f70",
   "metadata": {},
   "outputs": [],
   "source": [
    "import numpy as np"
   ]
  },
  {
   "cell_type": "code",
   "execution_count": 68,
   "id": "50bd3c01",
   "metadata": {},
   "outputs": [
    {
     "data": {
      "text/plain": [
       "array([[1, 2, 2, ..., 2, 0, 1],\n",
       "       [1, 2, 2, ..., 2, 1, 1],\n",
       "       [0, 0, 2, ..., 0, 2, 0],\n",
       "       ...,\n",
       "       [1, 2, 0, ..., 1, 0, 0],\n",
       "       [1, 0, 0, ..., 1, 1, 0],\n",
       "       [1, 2, 1, ..., 1, 1, 0]])"
      ]
     },
     "execution_count": 68,
     "metadata": {},
     "output_type": "execute_result"
    }
   ],
   "source": [
    "# filename = \"AoC day 8 example data.txt\"\n",
    "filename = \"AoC day 8 data.txt\"\n",
    "with open(filename, 'r') as f:\n",
    "    data = [list(line.strip()) for line in f.readlines()]\n",
    "data = np.array(data).astype(int)\n",
    "data"
   ]
  },
  {
   "cell_type": "code",
   "execution_count": 69,
   "id": "09b23143",
   "metadata": {},
   "outputs": [],
   "source": [
    "def visible_from_left(heights: np.ndarray) -> np.ndarray:\n",
    "    \"\"\"Returns a mask for trees visible from the left.\"\"\"\n",
    "    level = -1\n",
    "    visible = np.zeros_like(heights)\n",
    "    for i in range(len(heights)):\n",
    "        if heights[i] > level:\n",
    "            visible[i] = 1\n",
    "            level = heights[i]\n",
    "    return visible\n",
    "\n",
    "def visible_as_rows(heights: np.ndarray) -> np.ndarray:\n",
    "    \"\"\"Returns a mask for trees visible as rows.\"\"\"\n",
    "    visible = []\n",
    "    for row in heights:\n",
    "        visible_l_to_r = visible_from_left(row)\n",
    "        visible_r_to_l = visible_from_left(row[::-1])[::-1]\n",
    "        visible.append(np.bitwise_or(visible_l_to_r, visible_r_to_l))\n",
    "    return np.vstack(visible)"
   ]
  },
  {
   "cell_type": "code",
   "execution_count": 70,
   "id": "e22da6b7",
   "metadata": {},
   "outputs": [
    {
     "name": "stdout",
     "output_type": "stream",
     "text": [
      "[[1 1 1 ... 1 1 1]\n",
      " [1 1 0 ... 1 1 1]\n",
      " [1 0 1 ... 0 1 1]\n",
      " ...\n",
      " [1 1 0 ... 1 0 1]\n",
      " [1 0 0 ... 0 1 1]\n",
      " [1 1 1 ... 1 1 1]]\n",
      "1812\n"
     ]
    }
   ],
   "source": [
    "# calculate the number of \"visible\" trees\n",
    "# a tree is considered visible if it is:\n",
    "# (a) at an edge or corner.\n",
    "# (b) taller than all other trees before it in a column or row.\n",
    "# plan: do this as a mask, to avoid double counting?\n",
    "# now check each row and column (from both sides) to find visible trees\n",
    "# use row-wise check twice, but transpose the data for column-wise checking\n",
    "visible = np.bitwise_or(visible_as_rows(data), visible_as_rows(data.T).T)\n",
    "print(visible)\n",
    "print(visible.sum())   "
   ]
  },
  {
   "cell_type": "code",
   "execution_count": 72,
   "id": "8d7a9bb6",
   "metadata": {},
   "outputs": [],
   "source": [
    "# part 2\n",
    "# calculate the scenic score for each tree\n",
    "# for each tree how many other trees are visible along \n",
    "# each of the four directions?\n",
    "\n",
    "def scenic_score(data):\n",
    "    scores = np.empty_like(data)\n",
    "    for i in range(data.shape[0]): # loop over rows\n",
    "        for j in range(data.shape[1]): # loop over columns\n",
    "            height = data[i, j]\n",
    "            up = data[:i, j][::-1]\n",
    "            down = data[i+1:, j]\n",
    "            left = data[i, :j][::-1]\n",
    "            right = data[i, j+1:]\n",
    "            score = []\n",
    "            for view in (up, down, left, right):\n",
    "                blocked = np.argwhere(view >= height)\n",
    "                if blocked.size > 0:\n",
    "                    score.append(blocked[0][0] + 1)\n",
    "                else:\n",
    "                    score.append(len(view))\n",
    "            scores[i, j] = np.product(score)\n",
    "    return scores"
   ]
  },
  {
   "cell_type": "code",
   "execution_count": 73,
   "id": "a1531add",
   "metadata": {},
   "outputs": [
    {
     "data": {
      "text/plain": [
       "array([[ 0,  0,  0, ...,  0,  0,  0],\n",
       "       [ 0,  2,  5, ..., 32,  1,  0],\n",
       "       [ 0,  1, 12, ...,  1, 12,  0],\n",
       "       ...,\n",
       "       [ 0, 12,  1, ...,  2,  1,  0],\n",
       "       [ 0,  1,  1, ...,  1,  2,  0],\n",
       "       [ 0,  0,  0, ...,  0,  0,  0]])"
      ]
     },
     "execution_count": 73,
     "metadata": {},
     "output_type": "execute_result"
    }
   ],
   "source": [
    "scenic_score(data)"
   ]
  },
  {
   "cell_type": "code",
   "execution_count": 74,
   "id": "e5dfccc2",
   "metadata": {},
   "outputs": [
    {
     "name": "stdout",
     "output_type": "stream",
     "text": [
      "315495\n"
     ]
    }
   ],
   "source": [
    "print(np.max(scenic_score(data)))"
   ]
  },
  {
   "cell_type": "code",
   "execution_count": null,
   "id": "f42fcc9c",
   "metadata": {},
   "outputs": [],
   "source": []
  }
 ],
 "metadata": {
  "kernelspec": {
   "display_name": "Python 3 (ipykernel)",
   "language": "python",
   "name": "python3"
  },
  "language_info": {
   "codemirror_mode": {
    "name": "ipython",
    "version": 3
   },
   "file_extension": ".py",
   "mimetype": "text/x-python",
   "name": "python",
   "nbconvert_exporter": "python",
   "pygments_lexer": "ipython3",
   "version": "3.11.0a6"
  }
 },
 "nbformat": 4,
 "nbformat_minor": 5
}

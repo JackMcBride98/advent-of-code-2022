{
 "cells": [
  {
   "cell_type": "markdown",
   "id": "49814fd0",
   "metadata": {},
   "source": [
    "https://adventofcode.com/2022/day/1"
   ]
  },
  {
   "cell_type": "code",
   "execution_count": 1,
   "id": "f48f746b",
   "metadata": {},
   "outputs": [],
   "source": [
    "filename = \"../example_data/day1_example_data.txt\"\n",
    "\n",
    "def read_data(filename):\n",
    "    with open(filename, 'r') as f:\n",
    "        data = [line.strip() for line in f.readlines()]\n",
    "    return data\n",
    "\n",
    "def solve_part_1(data):\n",
    "    elf_calories = [0]\n",
    "    for line in data:\n",
    "        if line == '':\n",
    "            elf_calories.append(0)\n",
    "        else:\n",
    "            elf_calories[-1] += int(line)\n",
    "    return max(elf_calories)"
   ]
  },
  {
   "cell_type": "code",
   "execution_count": 2,
   "id": "a22a004e",
   "metadata": {},
   "outputs": [
    {
     "data": {
      "text/plain": [
       "24000"
      ]
     },
     "execution_count": 2,
     "metadata": {},
     "output_type": "execute_result"
    }
   ],
   "source": [
    "filename = \"../example_data/day1_example_data.txt\"\n",
    "example_data = read_data(filename)\n",
    "solve_part_1(example_data)"
   ]
  },
  {
   "cell_type": "code",
   "execution_count": 3,
   "id": "7390104b",
   "metadata": {},
   "outputs": [
    {
     "data": {
      "text/plain": [
       "74711"
      ]
     },
     "execution_count": 3,
     "metadata": {},
     "output_type": "execute_result"
    }
   ],
   "source": [
    "filename = \"../data/day1_data.txt\"\n",
    "data = read_data(filename)\n",
    "solve_part_1(data)"
   ]
  },
  {
   "cell_type": "code",
   "execution_count": 4,
   "id": "e005d5ec",
   "metadata": {},
   "outputs": [],
   "source": [
    "def solve_part_2(data):\n",
    "    elf_calories = [0]    \n",
    "    for line in data:\n",
    "        if line == '':\n",
    "            elf_calories.append(0)\n",
    "        else:\n",
    "            elf_calories[-1] += int(line)\n",
    "    return(sum(sorted(elf_calories)[-3:]))"
   ]
  },
  {
   "cell_type": "code",
   "execution_count": 5,
   "id": "c8cd68ad",
   "metadata": {},
   "outputs": [
    {
     "data": {
      "text/plain": [
       "45000"
      ]
     },
     "execution_count": 5,
     "metadata": {},
     "output_type": "execute_result"
    }
   ],
   "source": [
    "solve_part_2(example_data)"
   ]
  },
  {
   "cell_type": "code",
   "execution_count": 6,
   "id": "ffa5a294",
   "metadata": {},
   "outputs": [
    {
     "data": {
      "text/plain": [
       "209481"
      ]
     },
     "execution_count": 6,
     "metadata": {},
     "output_type": "execute_result"
    }
   ],
   "source": [
    "solve_part_2(data)"
   ]
  }
 ],
 "metadata": {
  "kernelspec": {
   "display_name": "Python 3 (ipykernel)",
   "language": "python",
   "name": "python3"
  },
  "language_info": {
   "codemirror_mode": {
    "name": "ipython",
    "version": 3
   },
   "file_extension": ".py",
   "mimetype": "text/x-python",
   "name": "python",
   "nbconvert_exporter": "python",
   "pygments_lexer": "ipython3",
   "version": "3.11.0a6"
  }
 },
 "nbformat": 4,
 "nbformat_minor": 5
}
